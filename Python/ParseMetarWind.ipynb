{
 "cells": [
  {
   "cell_type": "code",
   "execution_count": 34,
   "id": "16f860b0",
   "metadata": {},
   "outputs": [],
   "source": [
    "import numpy as np\n",
    "import pandas as pd\n",
    "import os\n",
    "import re"
   ]
  },
  {
   "cell_type": "code",
   "execution_count": 35,
   "id": "ff35bf8b",
   "metadata": {},
   "outputs": [],
   "source": [
    "# Define the ICAO code and file paths\n",
    "ICAO = 'WAAA'\n",
    "\n",
    "folder_path = ('../Raw Data/')\n",
    "file_path = os.path.join(folder_path, f'{ICAO}.txt')\n",
    "\n",
    "# Read the data from the file into a DataFrame\n",
    "df = pd.read_fwf(file_path, sep = ' ', header=None)"
   ]
  },
  {
   "cell_type": "code",
   "execution_count": 36,
   "id": "b5650b6f",
   "metadata": {},
   "outputs": [
    {
     "data": {
      "text/html": [
       "<div>\n",
       "<style scoped>\n",
       "    .dataframe tbody tr th:only-of-type {\n",
       "        vertical-align: middle;\n",
       "    }\n",
       "\n",
       "    .dataframe tbody tr th {\n",
       "        vertical-align: top;\n",
       "    }\n",
       "\n",
       "    .dataframe thead th {\n",
       "        text-align: right;\n",
       "    }\n",
       "</style>\n",
       "<table border=\"1\" class=\"dataframe\">\n",
       "  <thead>\n",
       "    <tr style=\"text-align: right;\">\n",
       "      <th></th>\n",
       "      <th>windDirAvg</th>\n",
       "      <th>windSpeed</th>\n",
       "      <th>windUnit</th>\n",
       "    </tr>\n",
       "  </thead>\n",
       "  <tbody>\n",
       "    <tr>\n",
       "      <th>0</th>\n",
       "      <td>160.0</td>\n",
       "      <td>3.0</td>\n",
       "      <td>KT</td>\n",
       "    </tr>\n",
       "    <tr>\n",
       "      <th>1</th>\n",
       "      <td>220.0</td>\n",
       "      <td>3.0</td>\n",
       "      <td>KT</td>\n",
       "    </tr>\n",
       "    <tr>\n",
       "      <th>2</th>\n",
       "      <td>NaN</td>\n",
       "      <td>NaN</td>\n",
       "      <td></td>\n",
       "    </tr>\n",
       "    <tr>\n",
       "      <th>3</th>\n",
       "      <td>110.0</td>\n",
       "      <td>4.0</td>\n",
       "      <td>KT</td>\n",
       "    </tr>\n",
       "    <tr>\n",
       "      <th>4</th>\n",
       "      <td>300.0</td>\n",
       "      <td>5.0</td>\n",
       "      <td>KT</td>\n",
       "    </tr>\n",
       "  </tbody>\n",
       "</table>\n",
       "</div>"
      ],
      "text/plain": [
       "   windDirAvg  windSpeed windUnit\n",
       "0       160.0        3.0       KT\n",
       "1       220.0        3.0       KT\n",
       "2         NaN        NaN         \n",
       "3       110.0        4.0       KT\n",
       "4       300.0        5.0       KT"
      ]
     },
     "execution_count": 36,
     "metadata": {},
     "output_type": "execute_result"
    }
   ],
   "source": [
    "# Define a function to extract and split the pattern\n",
    "def extract_and_split_pattern(text):\n",
    "    \"\"\"\n",
    "    Extracts and splits the pattern in the given text.\n",
    "\n",
    "    Args:\n",
    "        text (str): The input text containing the pattern.\n",
    "\n",
    "    Returns:\n",
    "        list: A list containing the extracted pattern's components.\n",
    "    \"\"\"\n",
    "    pattern = None\n",
    "    split_values = [\"\", \"\", \"\"]\n",
    "    \n",
    "    # Find the pattern using regular expression\n",
    "    match = re.search(r'\\d{5}KT', text)\n",
    "    if match:\n",
    "        pattern = match.group()\n",
    "        split_values = [pattern[:3], pattern[3:5], pattern[5:]]\n",
    "    \n",
    "    return split_values\n",
    "\n",
    "# Apply the function to each row\n",
    "pattern_columns = df.apply(lambda row: extract_and_split_pattern(' '.join(map(str, row))), axis=1)\n",
    "\n",
    "# Create new DataFrame with the extracted and split pattern columns\n",
    "pattern_df = pd.DataFrame(pattern_columns.tolist(), columns=[\"windDirAvg\", \"windSpeed\", \"windUnit\"])\n",
    "\n",
    "# Convert windDirAvg and windSpeed columns to numeric\n",
    "pattern_df[['windDirAvg', 'windSpeed']] = pattern_df[['windDirAvg', 'windSpeed']].apply(pd.to_numeric)\n",
    "\n",
    "# Display the pattern DataFrame\n",
    "pattern_df.head()"
   ]
  }
 ],
 "metadata": {
  "kernelspec": {
   "display_name": "Python 3 (ipykernel)",
   "language": "python",
   "name": "python3"
  },
  "language_info": {
   "codemirror_mode": {
    "name": "ipython",
    "version": 3
   },
   "file_extension": ".py",
   "mimetype": "text/x-python",
   "name": "python",
   "nbconvert_exporter": "python",
   "pygments_lexer": "ipython3",
   "version": "3.10.4"
  }
 },
 "nbformat": 4,
 "nbformat_minor": 5
}
